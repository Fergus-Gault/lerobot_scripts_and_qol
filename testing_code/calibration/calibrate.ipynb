{
 "cells": [
  {
   "cell_type": "code",
   "execution_count": null,
   "id": "5a061ecc",
   "metadata": {},
   "outputs": [],
   "source": [
    "from lerobot.common.robots.so101_follower import SO101FollowerConfig, SO101Follower\n",
    "\n",
    "from testing_code import *\n",
    "\n",
    "config = SO101FollowerConfig(\n",
    "    port=FOLLOWER_PORT,\n",
    "    id=FOLLOWER_ID,\n",
    ")\n",
    "\n",
    "follower = SO101Follower(config)\n",
    "follower.connect()\n",
    "# follower.calibrate()\n",
    "follower.disconnect()\n"
   ]
  },
  {
   "cell_type": "code",
   "execution_count": null,
   "id": "a0226d64",
   "metadata": {},
   "outputs": [],
   "source": [
    "from lerobot.common.teleoperators.so101_leader import SO101LeaderConfig, SO101Leader\n",
    "\n",
    "from testing_code import *\n",
    "\n",
    "config = SO101LeaderConfig(\n",
    "    port=LEADER_PORT,\n",
    "    id=LEADER_ID,\n",
    ")\n",
    "\n",
    "leader = SO101Leader(config)\n",
    "leader.connect()\n",
    "# leader.calibrate()\n",
    "leader.disconnect()\n"
   ]
  }
 ],
 "metadata": {
  "kernelspec": {
   "display_name": "lerobot",
   "language": "python",
   "name": "python3"
  },
  "language_info": {
   "codemirror_mode": {
    "name": "ipython",
    "version": 3
   },
   "file_extension": ".py",
   "mimetype": "text/x-python",
   "name": "python",
   "nbconvert_exporter": "python",
   "pygments_lexer": "ipython3",
   "version": "3.10.18"
  }
 },
 "nbformat": 4,
 "nbformat_minor": 5
}
