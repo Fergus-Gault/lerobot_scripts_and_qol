{
 "cells": [
  {
   "cell_type": "code",
   "execution_count": null,
   "id": "948e2a04",
   "metadata": {},
   "outputs": [],
   "source": [
    "!python -m lerobot.record    --robot.type=so101_follower   --robot.port=COM5   --robot.cameras=\"{ attached_cam: {type: opencv, index_or_path: 1, width: 640, height: 480, fps: 30}, phone_cam: {type: opencv, index_or_path: 2, width: 1280, height: 720, fps: 30}}\"   --robot.id=blue_follower   --teleop.type=so101_leader   --teleop.port=COM4   --teleop.id=blue_leader   --display_data=false   --dataset.repo_id=fergucci/eval_lego_wheel_move   --dataset.single_task=\"Move the lego wheel from one side to the other\"   --policy.path=fergucci/act_lego_wheel_move"
   ]
  }
 ],
 "metadata": {
  "kernelspec": {
   "display_name": "lerobot",
   "language": "python",
   "name": "python3"
  },
  "language_info": {
   "codemirror_mode": {
    "name": "ipython",
    "version": 3
   },
   "file_extension": ".py",
   "mimetype": "text/x-python",
   "name": "python",
   "nbconvert_exporter": "python",
   "pygments_lexer": "ipython3",
   "version": "3.10.18"
  }
 },
 "nbformat": 4,
 "nbformat_minor": 5
}
