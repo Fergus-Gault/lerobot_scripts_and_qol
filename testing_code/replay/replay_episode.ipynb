{
 "cells": [
  {
   "cell_type": "code",
   "execution_count": null,
   "id": "ed37d7ef",
   "metadata": {},
   "outputs": [],
   "source": [
    "from lerobot.replay import ReplayConfig, DatasetReplayConfig, replay\n",
    "from lerobot.common.robots.so101_follower import SO101Follower, SO101FollowerConfig\n",
    "\n",
    "from testing_code import *\n",
    "\n",
    "\n",
    "follower_config = SO101FollowerConfig(\n",
    "    port=FOLLOWER_PORT,\n",
    "    id=FOLLOWER_ID,\n",
    ")\n",
    "\n",
    "dataset_replay_config = DatasetReplayConfig(\n",
    "    repo_id=REPO_ID,\n",
    "    episode=0,\n",
    "    fps=30,\n",
    ")\n",
    "\n",
    "replay_config = ReplayConfig(\n",
    "    robot=follower_config,\n",
    "    dataset=dataset_replay_config,\n",
    ")\n",
    "\n",
    "replay(replay_config)\n"
   ]
  }
 ],
 "metadata": {
  "language_info": {
   "name": "python"
  }
 },
 "nbformat": 4,
 "nbformat_minor": 5
}
