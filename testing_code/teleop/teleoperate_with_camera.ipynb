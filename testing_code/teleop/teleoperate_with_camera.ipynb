{
 "cells": [
  {
   "cell_type": "code",
   "execution_count": null,
   "id": "f0118040",
   "metadata": {},
   "outputs": [],
   "source": [
    "from lerobot.common.robots.so101_follower import SO101FollowerConfig, SO101Follower\n",
    "from lerobot.common.teleoperators.so101_leader import SO101LeaderConfig, SO101Leader\n",
    "from lerobot.teleoperate import teleoperate, TeleoperateConfig\n",
    "from lerobot.common.cameras.opencv import OpenCVCameraConfig\n",
    "from lerobot.common.cameras.configs import ColorMode\n",
    "\n",
    "from testing_code import *\n",
    "\n",
    "camera_config = {\n",
    "    \"front\": OpenCVCameraConfig(\n",
    "        index_or_path=1,\n",
    "        width=640,\n",
    "        height=480,\n",
    "        fps=30,\n",
    "        color_mode=ColorMode.RGB,\n",
    "    ),\n",
    "    \"laptop_cam\": OpenCVCameraConfig(\n",
    "        index_or_path=0,\n",
    "        width=640,\n",
    "        height=480,\n",
    "        fps=30,\n",
    "        color_mode=ColorMode.RGB,\n",
    "    ),\n",
    "}\n",
    "\n",
    "follower_config = SO101FollowerConfig(\n",
    "    port=FOLLOWER_PORT,\n",
    "    id=FOLLOWER_ID,\n",
    "    cameras=camera_config,\n",
    ")\n",
    "\n",
    "leader_config = SO101LeaderConfig(\n",
    "    port=LEADER_PORT,\n",
    "    id=LEADER_ID,\n",
    ")\n",
    "\n",
    "follower = SO101Follower(follower_config)\n",
    "leader = SO101Leader(leader_config)\n",
    "\n",
    "teleop_config = TeleoperateConfig(\n",
    "    teleop=leader_config,\n",
    "    robot=follower_config,\n",
    "    fps=60,\n",
    "    teleop_time_s=None,\n",
    "    display_data=True,\n",
    ")\n",
    "\n",
    "teleoperate(teleop_config)\n"
   ]
  }
 ],
 "metadata": {
  "kernelspec": {
   "display_name": "lerobot",
   "language": "python",
   "name": "python3"
  },
  "language_info": {
   "name": "python",
   "version": "3.10.18"
  }
 },
 "nbformat": 4,
 "nbformat_minor": 5
}
